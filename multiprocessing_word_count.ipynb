{
 "cells": [
  {
   "cell_type": "code",
   "execution_count": 1,
   "metadata": {},
   "outputs": [],
   "source": [
    "from concurrent.futures import ProcessPoolExecutor\n",
    "from multiprocessing import cpu_count\n",
    "import json"
   ]
  },
  {
   "cell_type": "code",
   "execution_count": 2,
   "metadata": {},
   "outputs": [],
   "source": [
    "corpus = \"\"\"Hello I am an engineer.\n",
    "    How may I help you?\n",
    "    Could you please repeat?\n",
    "    What can I do for you?\n",
    "    Help one solve this.\n",
    "    Suggest new idea.\n",
    "    Let's move forward.\n",
    "    Finally we are done.\"\"\""
   ]
  },
  {
   "cell_type": "code",
   "execution_count": 3,
   "metadata": {},
   "outputs": [],
   "source": [
    "l = list(map(lambda x : x.lstrip(), corpus.split(\"\\n\")))"
   ]
  },
  {
   "cell_type": "code",
   "execution_count": 4,
   "metadata": {},
   "outputs": [
    {
     "data": {
      "text/plain": [
       "['Hello I am an engineer.',\n",
       " 'How may I help you?',\n",
       " 'Could you please repeat?',\n",
       " 'What can I do for you?',\n",
       " 'Help one solve this.',\n",
       " 'Suggest new idea.',\n",
       " \"Let's move forward.\",\n",
       " 'Finally we are done.']"
      ]
     },
     "execution_count": 4,
     "metadata": {},
     "output_type": "execute_result"
    }
   ],
   "source": [
    "l"
   ]
  },
  {
   "cell_type": "code",
   "execution_count": 5,
   "metadata": {},
   "outputs": [],
   "source": [
    "def count(index, sentence):\n",
    "    counts = dict()\n",
    "    for word in sentence.spilt():\n",
    "        if word in counts:\n",
    "            counts[word] += 1\n",
    "        else:\n",
    "            counts[word] = 1\n",
    "    with open(f'{index}.txt', 'w') as file:\n",
    "        file.write(json.dumps(counts))"
   ]
  },
  {
   "cell_type": "code",
   "execution_count": 6,
   "metadata": {},
   "outputs": [],
   "source": [
    "with ProcessPoolExecutor(max_workers=cpu_count()) as executor:\n",
    "    for index, sentence in enumerate(l):\n",
    "        # submit the processes: count(...)\n",
    "        executor.submit(count, index, sentence)"
   ]
  }
 ],
 "metadata": {
  "interpreter": {
   "hash": "cef9e06bb236b2a8629b07e87a04b187b952a0f661eff5533360a155783f0c33"
  },
  "kernelspec": {
   "display_name": "Python 3.8.8 ('base')",
   "language": "python",
   "name": "python3"
  },
  "language_info": {
   "codemirror_mode": {
    "name": "ipython",
    "version": 3
   },
   "file_extension": ".py",
   "mimetype": "text/x-python",
   "name": "python",
   "nbconvert_exporter": "python",
   "pygments_lexer": "ipython3",
   "version": "3.9.7"
  },
  "orig_nbformat": 4
 },
 "nbformat": 4,
 "nbformat_minor": 2
}
