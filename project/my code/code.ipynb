{
 "cells": [
  {
   "cell_type": "code",
   "execution_count": 1,
   "metadata": {},
   "outputs": [],
   "source": [
    "import numpy as np\n",
    "import random as rd\n",
    "import scipy.sparse as sp\n",
    "from time import time\n",
    "import pickle\n",
    "import os\n",
    "import pandas as pd"
   ]
  },
  {
   "cell_type": "code",
   "execution_count": 2,
   "metadata": {},
   "outputs": [],
   "source": [
    "train_file = 'train.txt'\n",
    "test_file = 'test.txt'\n",
    "n_users, n_items = 0, 0\n",
    "n_train, n_test = 0, 0\n",
    "neg_pools = {}\n",
    "\n",
    "exist_users = []\n",
    "\n",
    "with open(train_file) as f:\n",
    "    for l in f.readlines():\n",
    "        if len(l) > 0:\n",
    "            l = l.strip('\\n').split(' ')\n",
    "            items = [int(i) for i in l[1:]]\n",
    "            uid = int(l[0])\n",
    "            exist_users.append(uid)\n",
    "            n_items = max(n_items, max(items))\n",
    "            n_users = max(n_users, uid)\n",
    "            n_train += len(items)\n",
    "\n",
    "with open(test_file) as f:\n",
    "    for l in f.readlines():\n",
    "        if len(l) > 0:\n",
    "            l = l.strip('\\n')\n",
    "            try:\n",
    "                items = [int(i) for i in l.split(' ')[1:]]\n",
    "            except Exception:\n",
    "                continue\n",
    "            n_items = max(n_items, max(items))\n",
    "            n_test += len(items)"
   ]
  },
  {
   "cell_type": "code",
   "execution_count": 3,
   "metadata": {},
   "outputs": [],
   "source": [
    "n_items += 1\n",
    "n_users += 1\n",
    "R = sp.dok_matrix((n_users, n_items), dtype=np.float32)\n",
    "train_items, test_set = {}, {}"
   ]
  },
  {
   "cell_type": "code",
   "execution_count": 4,
   "metadata": {},
   "outputs": [
    {
     "ename": "IndexError",
     "evalue": "column index (3706) out of range",
     "output_type": "error",
     "traceback": [
      "\u001b[1;31m---------------------------------------------------------------------------\u001b[0m",
      "\u001b[1;31mIndexError\u001b[0m                                Traceback (most recent call last)",
      "\u001b[1;32m~\\AppData\\Local\\Temp/ipykernel_16804/3625847517.py\u001b[0m in \u001b[0;36m<module>\u001b[1;34m\u001b[0m\n\u001b[0;32m      8\u001b[0m \u001b[1;33m\u001b[0m\u001b[0m\n\u001b[0;32m      9\u001b[0m             \u001b[1;32mfor\u001b[0m \u001b[0mi\u001b[0m \u001b[1;32min\u001b[0m \u001b[0mtrain_items\u001b[0m\u001b[1;33m:\u001b[0m\u001b[1;33m\u001b[0m\u001b[1;33m\u001b[0m\u001b[0m\n\u001b[1;32m---> 10\u001b[1;33m                 \u001b[0mR\u001b[0m\u001b[1;33m[\u001b[0m\u001b[0muid\u001b[0m\u001b[1;33m,\u001b[0m \u001b[0mi\u001b[0m\u001b[1;33m]\u001b[0m \u001b[1;33m=\u001b[0m \u001b[1;36m1.\u001b[0m\u001b[1;33m\u001b[0m\u001b[1;33m\u001b[0m\u001b[0m\n\u001b[0m\u001b[0;32m     11\u001b[0m \u001b[1;33m\u001b[0m\u001b[0m\n\u001b[0;32m     12\u001b[0m             \u001b[0mtrain_items\u001b[0m\u001b[1;33m[\u001b[0m\u001b[0muid\u001b[0m\u001b[1;33m]\u001b[0m \u001b[1;33m=\u001b[0m \u001b[0muser_items\u001b[0m\u001b[1;33m\u001b[0m\u001b[1;33m\u001b[0m\u001b[0m\n",
      "\u001b[1;32mC:\\anaconda3\\lib\\site-packages\\scipy\\sparse\\_index.py\u001b[0m in \u001b[0;36m__setitem__\u001b[1;34m(self, key, x)\u001b[0m\n\u001b[0;32m     74\u001b[0m \u001b[1;33m\u001b[0m\u001b[0m\n\u001b[0;32m     75\u001b[0m     \u001b[1;32mdef\u001b[0m \u001b[0m__setitem__\u001b[0m\u001b[1;33m(\u001b[0m\u001b[0mself\u001b[0m\u001b[1;33m,\u001b[0m \u001b[0mkey\u001b[0m\u001b[1;33m,\u001b[0m \u001b[0mx\u001b[0m\u001b[1;33m)\u001b[0m\u001b[1;33m:\u001b[0m\u001b[1;33m\u001b[0m\u001b[1;33m\u001b[0m\u001b[0m\n\u001b[1;32m---> 76\u001b[1;33m         \u001b[0mrow\u001b[0m\u001b[1;33m,\u001b[0m \u001b[0mcol\u001b[0m \u001b[1;33m=\u001b[0m \u001b[0mself\u001b[0m\u001b[1;33m.\u001b[0m\u001b[0m_validate_indices\u001b[0m\u001b[1;33m(\u001b[0m\u001b[0mkey\u001b[0m\u001b[1;33m)\u001b[0m\u001b[1;33m\u001b[0m\u001b[1;33m\u001b[0m\u001b[0m\n\u001b[0m\u001b[0;32m     77\u001b[0m \u001b[1;33m\u001b[0m\u001b[0m\n\u001b[0;32m     78\u001b[0m         \u001b[1;32mif\u001b[0m \u001b[0misinstance\u001b[0m\u001b[1;33m(\u001b[0m\u001b[0mrow\u001b[0m\u001b[1;33m,\u001b[0m \u001b[0mINT_TYPES\u001b[0m\u001b[1;33m)\u001b[0m \u001b[1;32mand\u001b[0m \u001b[0misinstance\u001b[0m\u001b[1;33m(\u001b[0m\u001b[0mcol\u001b[0m\u001b[1;33m,\u001b[0m \u001b[0mINT_TYPES\u001b[0m\u001b[1;33m)\u001b[0m\u001b[1;33m:\u001b[0m\u001b[1;33m\u001b[0m\u001b[1;33m\u001b[0m\u001b[0m\n",
      "\u001b[1;32mC:\\anaconda3\\lib\\site-packages\\scipy\\sparse\\_index.py\u001b[0m in \u001b[0;36m_validate_indices\u001b[1;34m(self, key)\u001b[0m\n\u001b[0;32m    141\u001b[0m             \u001b[0mcol\u001b[0m \u001b[1;33m=\u001b[0m \u001b[0mint\u001b[0m\u001b[1;33m(\u001b[0m\u001b[0mcol\u001b[0m\u001b[1;33m)\u001b[0m\u001b[1;33m\u001b[0m\u001b[1;33m\u001b[0m\u001b[0m\n\u001b[0;32m    142\u001b[0m             \u001b[1;32mif\u001b[0m \u001b[0mcol\u001b[0m \u001b[1;33m<\u001b[0m \u001b[1;33m-\u001b[0m\u001b[0mN\u001b[0m \u001b[1;32mor\u001b[0m \u001b[0mcol\u001b[0m \u001b[1;33m>=\u001b[0m \u001b[0mN\u001b[0m\u001b[1;33m:\u001b[0m\u001b[1;33m\u001b[0m\u001b[1;33m\u001b[0m\u001b[0m\n\u001b[1;32m--> 143\u001b[1;33m                 \u001b[1;32mraise\u001b[0m \u001b[0mIndexError\u001b[0m\u001b[1;33m(\u001b[0m\u001b[1;34m'column index (%d) out of range'\u001b[0m \u001b[1;33m%\u001b[0m \u001b[0mcol\u001b[0m\u001b[1;33m)\u001b[0m\u001b[1;33m\u001b[0m\u001b[1;33m\u001b[0m\u001b[0m\n\u001b[0m\u001b[0;32m    144\u001b[0m             \u001b[1;32mif\u001b[0m \u001b[0mcol\u001b[0m \u001b[1;33m<\u001b[0m \u001b[1;36m0\u001b[0m\u001b[1;33m:\u001b[0m\u001b[1;33m\u001b[0m\u001b[1;33m\u001b[0m\u001b[0m\n\u001b[0;32m    145\u001b[0m                 \u001b[0mcol\u001b[0m \u001b[1;33m+=\u001b[0m \u001b[0mN\u001b[0m\u001b[1;33m\u001b[0m\u001b[1;33m\u001b[0m\u001b[0m\n",
      "\u001b[1;31mIndexError\u001b[0m: column index (3706) out of range"
     ]
    }
   ],
   "source": [
    "with open(train_file) as f_train:\n",
    "    for l in f_train.readlines():\n",
    "        if len(l) == 0:\n",
    "            break\n",
    "        l = l.strip('\\n')\n",
    "        items = [int(i) for i in l.split(' ')]\n",
    "        uid, user_items = items[0], items[1:]\n",
    "\n",
    "        for i in train_items:\n",
    "            R[uid, i] = 1\n",
    "\n",
    "        train_items[uid] = user_items"
   ]
  },
  {
   "cell_type": "code",
   "execution_count": null,
   "metadata": {},
   "outputs": [],
   "source": [
    "uidW, iidW = None, None"
   ]
  },
  {
   "cell_type": "code",
   "execution_count": null,
   "metadata": {},
   "outputs": [],
   "source": [
    "def E_score2(a, b):\n",
    "    return np.sum(np.power(a-b, 2))"
   ]
  },
  {
   "cell_type": "code",
   "execution_count": null,
   "metadata": {},
   "outputs": [],
   "source": [
    "def data_partition_1(train_items, k=10, T=50):\n",
    "    uidW = pd.read_pickle(\"user_pretrain.pk\")\n",
    "    iidW = pd.read_pickle(\"item_pretrain.pk\")\n",
    "\n",
    "    # get_data_interactions_1\n",
    "    data = []\n",
    "    for i in train_items:\n",
    "        for j in train_items[i]:\n",
    "            data.append([i, j])\n",
    "\n",
    "    # Randomly select k centroids\n",
    "    max_data = 1.2 * len(data) / k\n",
    "    centroids = rd.sample(data, k)\n",
    "\n",
    "    # centro emb\n",
    "\n",
    "    centroembs = []\n",
    "    for i in range(k):\n",
    "        temp_u = uidW[centroids[i][0]]\n",
    "        temp_i = iidW[centroids[i][1]]\n",
    "        centroembs.append([temp_u, temp_i])\n",
    "\n",
    "    for _ in range(T):\n",
    "        C = [{} for _ in range(k)]\n",
    "        C_num = [0 for _ in range(k)]\n",
    "        Scores = {}\n",
    "        for i in range(len(data)):\n",
    "            for j in range(k):\n",
    "\n",
    "                score_u = E_score2(uidW[data[i][0]], centroembs[j][0])\n",
    "                score_i = E_score2(iidW[data[i][1]], centroembs[j][1])\n",
    "\n",
    "                Scores[i, j] = -score_u * score_i\n",
    "\n",
    "        Scores = sorted(Scores.items(), key=lambda x: x[1], reverse=True)\n",
    "\n",
    "        fl = set()\n",
    "        for i in range(len(Scores)):\n",
    "            if Scores[i][0][0] not in fl:\n",
    "\n",
    "                if C_num[Scores[i][0][1]] < max_data:\n",
    "                    if data[Scores[i][0][0]][0] not in C[Scores[i][0][1]]:\n",
    "                        C[Scores[i][0][1]][data[Scores[i][0][0]][0]] = [\n",
    "                            data[Scores[i][0][0]][1]]\n",
    "                    else:\n",
    "                        C[Scores[i][0][1]][data[Scores[i][0][0]]\n",
    "                                           [0]].append(data[Scores[i][0][0]][1])\n",
    "                    fl.add(Scores[i][0][0])\n",
    "                    C_num[Scores[i][0][1]] += 1\n",
    "\n",
    "        centroembs_next = []\n",
    "        for i in range(k):\n",
    "            temp_u = []\n",
    "            temp_i = []\n",
    "\n",
    "            for j in C[i].keys():\n",
    "                for l in C[i][j]:\n",
    "                    temp_u.append(uidW[j])\n",
    "                    temp_i.append(iidW[l])\n",
    "            centroembs_next.append([np.mean(temp_u), np.mean(temp_i)])\n",
    "\n",
    "        loss = 0.0\n",
    "\n",
    "        for i in range(k):\n",
    "            score_u = E_score2(centroembs_next[i][0], centroembs[i][0])\n",
    "\n",
    "            score_i = E_score2(centroembs_next[i][1], centroembs[i][1])\n",
    "\n",
    "            loss += (score_u * score_i)\n",
    "\n",
    "        centroembs = centroembs_next\n",
    "        for i in range(k):\n",
    "            print(C_num[i])\n",
    "\n",
    "        print(_, loss)\n",
    "\n",
    "    users = [[] for i in range(k)]\n",
    "    items = [[] for i in range(k)]\n",
    "\n",
    "    for i in range(k):\n",
    "        users[i] = C[i].keys()\n",
    "        for j in C[i].keys():\n",
    "            for l in C[i][j]:\n",
    "                if l not in items[i]:\n",
    "                    items[i].append(l)\n",
    "\n",
    "    return C, users, items"
   ]
  },
  {
   "cell_type": "code",
   "execution_count": null,
   "metadata": {},
   "outputs": [
    {
     "ename": "IndexError",
     "evalue": "index 10215 is out of bounds for axis 0 with size 3707",
     "output_type": "error",
     "traceback": [
      "\u001b[1;31m---------------------------------------------------------------------------\u001b[0m",
      "\u001b[1;31mIndexError\u001b[0m                                Traceback (most recent call last)",
      "\u001b[1;32m~\\AppData\\Local\\Temp/ipykernel_15732/198941317.py\u001b[0m in \u001b[0;36m<module>\u001b[1;34m\u001b[0m\n\u001b[1;32m----> 1\u001b[1;33m \u001b[0mC\u001b[0m\u001b[1;33m,\u001b[0m \u001b[0musers\u001b[0m\u001b[1;33m,\u001b[0m \u001b[0mitems\u001b[0m \u001b[1;33m=\u001b[0m \u001b[0mdata_partition_1\u001b[0m\u001b[1;33m(\u001b[0m\u001b[0mtrain_items\u001b[0m\u001b[1;33m)\u001b[0m\u001b[1;33m\u001b[0m\u001b[1;33m\u001b[0m\u001b[0m\n\u001b[0m",
      "\u001b[1;32m~\\AppData\\Local\\Temp/ipykernel_15732/3162993231.py\u001b[0m in \u001b[0;36mdata_partition_1\u001b[1;34m(train_items, k, T)\u001b[0m\n\u001b[0;32m     18\u001b[0m     \u001b[1;32mfor\u001b[0m \u001b[0mi\u001b[0m \u001b[1;32min\u001b[0m \u001b[0mrange\u001b[0m\u001b[1;33m(\u001b[0m\u001b[0mk\u001b[0m\u001b[1;33m)\u001b[0m\u001b[1;33m:\u001b[0m\u001b[1;33m\u001b[0m\u001b[1;33m\u001b[0m\u001b[0m\n\u001b[0;32m     19\u001b[0m         \u001b[0mtemp_u\u001b[0m \u001b[1;33m=\u001b[0m \u001b[0muidW\u001b[0m\u001b[1;33m[\u001b[0m\u001b[0mcentroids\u001b[0m\u001b[1;33m[\u001b[0m\u001b[0mi\u001b[0m\u001b[1;33m]\u001b[0m\u001b[1;33m[\u001b[0m\u001b[1;36m0\u001b[0m\u001b[1;33m]\u001b[0m\u001b[1;33m]\u001b[0m\u001b[1;33m\u001b[0m\u001b[1;33m\u001b[0m\u001b[0m\n\u001b[1;32m---> 20\u001b[1;33m         \u001b[0mtemp_i\u001b[0m \u001b[1;33m=\u001b[0m \u001b[0miidW\u001b[0m\u001b[1;33m[\u001b[0m\u001b[0mcentroids\u001b[0m\u001b[1;33m[\u001b[0m\u001b[0mi\u001b[0m\u001b[1;33m]\u001b[0m\u001b[1;33m[\u001b[0m\u001b[1;36m1\u001b[0m\u001b[1;33m]\u001b[0m\u001b[1;33m]\u001b[0m\u001b[1;33m\u001b[0m\u001b[1;33m\u001b[0m\u001b[0m\n\u001b[0m\u001b[0;32m     21\u001b[0m         \u001b[0mcentroembs\u001b[0m\u001b[1;33m.\u001b[0m\u001b[0mappend\u001b[0m\u001b[1;33m(\u001b[0m\u001b[1;33m[\u001b[0m\u001b[0mtemp_u\u001b[0m\u001b[1;33m,\u001b[0m \u001b[0mtemp_i\u001b[0m\u001b[1;33m]\u001b[0m\u001b[1;33m)\u001b[0m\u001b[1;33m\u001b[0m\u001b[1;33m\u001b[0m\u001b[0m\n\u001b[0;32m     22\u001b[0m \u001b[1;33m\u001b[0m\u001b[0m\n",
      "\u001b[1;31mIndexError\u001b[0m: index 10215 is out of bounds for axis 0 with size 3707"
     ]
    }
   ],
   "source": [
    "C, users, items = data_partition_1(train_items)"
   ]
  },
  {
   "cell_type": "code",
   "execution_count": null,
   "metadata": {},
   "outputs": [],
   "source": []
  }
 ],
 "metadata": {
  "interpreter": {
   "hash": "cef9e06bb236b2a8629b07e87a04b187b952a0f661eff5533360a155783f0c33"
  },
  "kernelspec": {
   "display_name": "Python 3.9.7 ('base')",
   "language": "python",
   "name": "python3"
  },
  "language_info": {
   "codemirror_mode": {
    "name": "ipython",
    "version": 3
   },
   "file_extension": ".py",
   "mimetype": "text/x-python",
   "name": "python",
   "nbconvert_exporter": "python",
   "pygments_lexer": "ipython3",
   "version": "3.9.7"
  },
  "orig_nbformat": 4
 },
 "nbformat": 4,
 "nbformat_minor": 2
}
