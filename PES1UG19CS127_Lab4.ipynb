{
  "cells": [
    {
      "cell_type": "code",
      "execution_count": 1,
      "metadata": {
        "id": "CZMdAMy8Mn66"
      },
      "outputs": [],
      "source": [
        "from sklearn.datasets import fetch_20newsgroups\n",
        "import time"
      ]
    },
    {
      "cell_type": "code",
      "execution_count": 2,
      "metadata": {
        "id": "Q3HTWHO_3nU6"
      },
      "outputs": [],
      "source": [
        "newsgroups = fetch_20newsgroups(subset='train')"
      ]
    },
    {
      "cell_type": "code",
      "execution_count": 3,
      "metadata": {
        "id": "SQ9nqI3g1Zrr"
      },
      "outputs": [],
      "source": [
        "#Selecting random newsgroup out of the set and obtaining all data for it\n",
        "import random\n",
        "categ=[random.choice(newsgroups.target_names)]\n",
        "newsgroups = fetch_20newsgroups(subset = 'train', categories = categ)"
      ]
    },
    {
      "cell_type": "code",
      "execution_count": 4,
      "metadata": {
        "id": "PE-CndnIHxtR"
      },
      "outputs": [
        {
          "name": "stdout",
          "output_type": "stream",
          "text": [
            "From: nyeda@cnsvax.uwec.edu (David Nye)\n",
            "Subject: Re: Post Polio Syndrome Information Needed Please !!!\n",
            "Organization: University of Wisconsin Eau Claire\n",
            "Lines: 21\n",
            "\n",
            "[reply to keith@actrix.gen.nz (Keith Stewart)]\n",
            " \n",
            ">My wife has become interested through an acquaintance in Post-Polio\n",
            ">Syndrome This apparently is not recognised in New Zealand and different\n",
            ">symptons ( eg chest complaints) are treated separately. Does anone have\n",
            ">any information on it\n",
            " \n",
            "It would help if you (and anyone else asking for medical information on\n",
            "some subject) could ask specific questions, as no one is likely to type\n",
            "in a textbook chapter covering all aspects of the subject.  If you are\n",
            "looking for a comprehensive review, ask your local hospital librarian.\n",
            "Most are happy to help with a request of this sort.\n",
            " \n",
            "Briefly, this is a condition in which patients who have significant\n",
            "residual weakness from childhood polio notice progression of the\n",
            "weakness as they get older.  One theory is that the remaining motor\n",
            "neurons have to work harder and so die sooner.\n",
            " \n",
            "David Nye (nyeda@cnsvax.uwec.edu).  Midelfort Clinic, Eau Claire WI\n",
            "This is patently absurd; but whoever wishes to become a philosopher\n",
            "must learn not to be frightened by absurdities. -- Bertrand Russell\n",
            "\n"
          ]
        }
      ],
      "source": [
        "#Creating the hash table for all the mails\n",
        "hash = {}\n",
        "count = 0\n",
        "for key in newsgroups.data:\n",
        "  # printing the key once just to see the structure\n",
        "  if count == 0:\n",
        "    count += 1\n",
        "    print(key)\n",
        "  hash[key] = True"
      ]
    },
    {
      "cell_type": "code",
      "execution_count": 5,
      "metadata": {
        "id": "eC0q9k9HLPGo"
      },
      "outputs": [],
      "source": [
        "#The structure of a node of a tree\n",
        "class Node:\n",
        "    def __init__(self, key):\n",
        "        self.left = None\n",
        "        self.right = None\n",
        "        self.val = key\n",
        "\n",
        "#The function for inserting a value in its appropriate place\n",
        "def insert(root, key):\n",
        "    if root is None:\n",
        "        return Node(key)\n",
        "    else:\n",
        "        if root.val == key:\n",
        "            return root\n",
        "        elif root.val < key:\n",
        "            root.right = insert(root.right, key)\n",
        "        else:\n",
        "            root.left = insert(root.left, key)\n",
        "    return root\n",
        "\n",
        "# A utility function to search a given key in BST\n",
        "def search(root,key):\n",
        "     \n",
        "    # Base Cases: root is null or key is present at root\n",
        "    if root is None or root.val == key:\n",
        "        return root\n",
        " \n",
        "    # Key is greater than root's key\n",
        "    if root.val < key:\n",
        "        return search(root.right,key)\n",
        "   \n",
        "    # Key is smaller than root's key\n",
        "    return search(root.left,key)\n",
        "\n",
        "#Function for printing the bst in inorder manner    \n",
        "def inorder(root):\n",
        "    if root:\n",
        "        inorder(root.left)\n",
        "        print(root.val)\n",
        "        inorder(root.right)"
      ]
    },
    {
      "cell_type": "code",
      "execution_count": 6,
      "metadata": {
        "id": "jatuyx3sRQmv"
      },
      "outputs": [],
      "source": [
        "#Creating the bst for storing all the mails\n",
        "bst=Node(newsgroups.data[0])\n",
        "for key in newsgroups.data:\n",
        "  bst = insert(bst, key)"
      ]
    },
    {
      "cell_type": "code",
      "execution_count": 7,
      "metadata": {},
      "outputs": [],
      "source": [
        "def test(num_docs):\n",
        "    testing = []\n",
        "    for _ in range(0, num_docs):\n",
        "        testing.append(random.choice(newsgroups.data))\n",
        "\n",
        "    start = time.time()\n",
        "\n",
        "    for j in testing:\n",
        "        if j in hash:\n",
        "            pass\n",
        "\n",
        "    end = time.time()\n",
        "    hash_time = end-start\n",
        "\n",
        "    start = time.time()\n",
        "\n",
        "    for j in testing:\n",
        "        search(bst,j)\n",
        "\n",
        "    end = time.time()\n",
        "    bst_time = end-start\n",
        "\n",
        "    return hash_time, bst_time"
      ]
    },
    {
      "cell_type": "markdown",
      "metadata": {},
      "source": [
        "Test 1\n",
        "Retrieving 300 docs"
      ]
    },
    {
      "cell_type": "code",
      "execution_count": 8,
      "metadata": {},
      "outputs": [],
      "source": [
        "hash_time1, bst_time1 = test(num_docs = 300)"
      ]
    },
    {
      "cell_type": "markdown",
      "metadata": {},
      "source": [
        "Test 2\n",
        "Retrieving 400 docs"
      ]
    },
    {
      "cell_type": "code",
      "execution_count": 9,
      "metadata": {},
      "outputs": [],
      "source": [
        "hash_time2, bst_time2 = test(num_docs = 400)"
      ]
    },
    {
      "cell_type": "markdown",
      "metadata": {},
      "source": [
        "Test 3\n",
        "Retrieving 500 docs"
      ]
    },
    {
      "cell_type": "code",
      "execution_count": 10,
      "metadata": {},
      "outputs": [],
      "source": [
        "hash_time3, bst_time3 = test(num_docs = 500)"
      ]
    },
    {
      "cell_type": "code",
      "execution_count": 11,
      "metadata": {
        "colab": {
          "base_uri": "https://localhost:8080/"
        },
        "id": "Fiy1VrTub6R_",
        "outputId": "53960176-db8f-4780-a0a4-0836de9e5df1"
      },
      "outputs": [
        {
          "name": "stdout",
          "output_type": "stream",
          "text": [
            "Test 1\n",
            "Time taken for 300 random searches in the hash table is :  0.0\n",
            "Time taken for 300 random searches in the bst is :  0.0010008811950683594\n",
            "Test 2 : \n",
            "Time taken for 400 random searches in the hash table is :  0.0\n",
            "Time taken for 400 random searches in the bst is :  0.0010013580322265625\n",
            "Test 3 : \n",
            "Time taken for 500 random searches in the hash table is :  0.0\n",
            "Time taken for 500 random searches in the bst is :  0.002000093460083008\n"
          ]
        }
      ],
      "source": [
        "print(\"Test 1\")\n",
        "print(\"Time taken for 300 random searches in the hash table is : \", hash_time1)\n",
        "print(\"Time taken for 300 random searches in the bst is : \", bst_time1)\n",
        "print(\"Test 2 : \")\n",
        "print(\"Time taken for 400 random searches in the hash table is : \", hash_time2)\n",
        "print(\"Time taken for 400 random searches in the bst is : \", bst_time2)\n",
        "print(\"Test 3 : \")\n",
        "print(\"Time taken for 500 random searches in the hash table is : \", hash_time3)\n",
        "print(\"Time taken for 500 random searches in the bst is : \", bst_time3)\n"
      ]
    },
    {
      "cell_type": "markdown",
      "metadata": {
        "id": "bZJraihHdI9m"
      },
      "source": [
        "From the above results we see that hash table always is quicker in retrieving random mails than bst"
      ]
    }
  ],
  "metadata": {
    "colab": {
      "collapsed_sections": [],
      "name": "air week4.ipynb",
      "provenance": [],
      "toc_visible": true
    },
    "kernelspec": {
      "display_name": "Python 3",
      "name": "python3"
    },
    "language_info": {
      "codemirror_mode": {
        "name": "ipython",
        "version": 3
      },
      "file_extension": ".py",
      "mimetype": "text/x-python",
      "name": "python",
      "nbconvert_exporter": "python",
      "pygments_lexer": "ipython3",
      "version": "3.8.8"
    }
  },
  "nbformat": 4,
  "nbformat_minor": 0
}
